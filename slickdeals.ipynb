{
 "cells": [
  {
   "cell_type": "code",
   "execution_count": 2,
   "id": "a90d40a0-6e5d-4b00-9493-748f9184d1a4",
   "metadata": {
    "tags": []
   },
   "outputs": [
    {
     "ename": "ModuleNotFoundError",
     "evalue": "No module named 'tabulate'",
     "output_type": "error",
     "traceback": [
      "\u001b[0;31m---------------------------------------------------------------------------\u001b[0m",
      "\u001b[0;31mModuleNotFoundError\u001b[0m                       Traceback (most recent call last)",
      "Cell \u001b[0;32mIn[2], line 2\u001b[0m\n\u001b[1;32m      1\u001b[0m \u001b[38;5;28;01mfrom\u001b[39;00m \u001b[38;5;21;01mbs4\u001b[39;00m \u001b[38;5;28;01mimport\u001b[39;00m BeautifulSoup\n\u001b[0;32m----> 2\u001b[0m \u001b[38;5;28;01mfrom\u001b[39;00m \u001b[38;5;21;01mtabulate\u001b[39;00m \u001b[38;5;28;01mimport\u001b[39;00m tabulate\n\u001b[1;32m      4\u001b[0m \u001b[38;5;28;01mimport\u001b[39;00m \u001b[38;5;21;01mslickdeals\u001b[39;00m \u001b[38;5;28;01mas\u001b[39;00m \u001b[38;5;21;01msd\u001b[39;00m\n",
      "\u001b[0;31mModuleNotFoundError\u001b[0m: No module named 'tabulate'"
     ]
    }
   ],
   "source": [
    "from bs4 import BeautifulSoup\n",
    "from tabulate import tabulate\n",
    "\n",
    "import slickdeals as sd"
   ]
  },
  {
   "cell_type": "code",
   "execution_count": null,
   "id": "0d4a8f64-6244-49f0-b997-b4e519c99175",
   "metadata": {
    "tags": []
   },
   "outputs": [],
   "source": [
    "html = open('test.html').read()\n",
    "fetcher = sd.SlickDealsFetcher(html=html)"
   ]
  },
  {
   "cell_type": "code",
   "execution_count": null,
   "id": "8fbf551a-1d07-4470-a214-1bb273ad9d54",
   "metadata": {
    "tags": []
   },
   "outputs": [],
   "source": [
    "        soup = BeautifulSoup(html, \"html.parser\")\n",
    "        cards = soup.find_all(\"li\", attrs={'data-catalogitem': \"DealCard\"})\n",
    " "
   ]
  },
  {
   "cell_type": "code",
   "execution_count": null,
   "id": "23dbb879-fc4b-4b45-a532-80fb7de4e557",
   "metadata": {
    "tags": []
   },
   "outputs": [],
   "source": [
    "import tabulate"
   ]
  },
  {
   "cell_type": "code",
   "execution_count": null,
   "id": "61497ed9-c415-44ac-81c2-32b77f94047f",
   "metadata": {
    "tags": []
   },
   "outputs": [],
   "source": [
    "fetcher.base_url"
   ]
  },
  {
   "cell_type": "code",
   "execution_count": null,
   "id": "e51ce583-dd5f-442d-ae63-d95d2e90191e",
   "metadata": {
    "tags": []
   },
   "outputs": [],
   "source": [
    "deals.iloc[0][['original-price','store','url']]"
   ]
  },
  {
   "cell_type": "code",
   "execution_count": null,
   "id": "c9e76fe4-f885-44fa-979b-56c42bc7f40a",
   "metadata": {
    "tags": []
   },
   "outputs": [],
   "source": [
    "deals= fetcher.fetch_deals()"
   ]
  }
 ],
 "metadata": {
  "kernelspec": {
   "display_name": "Python 3 (ipykernel)",
   "language": "python",
   "name": "python3"
  },
  "language_info": {
   "codemirror_mode": {
    "name": "ipython",
    "version": 3
   },
   "file_extension": ".py",
   "mimetype": "text/x-python",
   "name": "python",
   "nbconvert_exporter": "python",
   "pygments_lexer": "ipython3",
   "version": "3.10.9"
  }
 },
 "nbformat": 4,
 "nbformat_minor": 5
}
